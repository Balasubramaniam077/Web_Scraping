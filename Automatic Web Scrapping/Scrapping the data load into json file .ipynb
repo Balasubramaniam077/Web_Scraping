{
 "cells": [
  {
   "cell_type": "code",
   "execution_count": 1,
   "metadata": {},
   "outputs": [
    {
     "name": "stdout",
     "output_type": "stream",
     "text": [
      "Requirement already satisfied: autoscraper in d:\\anaconda\\lib\\site-packages (1.1.12)\n",
      "Requirement already satisfied: requests in d:\\anaconda\\lib\\site-packages (from autoscraper) (2.24.0)\n",
      "Requirement already satisfied: bs4 in d:\\anaconda\\lib\\site-packages (from autoscraper) (0.0.1)\n",
      "Requirement already satisfied: lxml in d:\\anaconda\\lib\\site-packages (from autoscraper) (4.5.2)\n",
      "Requirement already satisfied: chardet<4,>=3.0.2 in d:\\anaconda\\lib\\site-packages (from requests->autoscraper) (3.0.4)\n",
      "Requirement already satisfied: urllib3!=1.25.0,!=1.25.1,<1.26,>=1.21.1 in d:\\anaconda\\lib\\site-packages (from requests->autoscraper) (1.25.9)\n",
      "Requirement already satisfied: idna<3,>=2.5 in d:\\anaconda\\lib\\site-packages (from requests->autoscraper) (2.10)\n",
      "Requirement already satisfied: certifi>=2017.4.17 in d:\\anaconda\\lib\\site-packages (from requests->autoscraper) (2020.6.20)\n",
      "Requirement already satisfied: beautifulsoup4 in d:\\anaconda\\lib\\site-packages (from bs4->autoscraper) (4.9.1)\n",
      "Requirement already satisfied: soupsieve>1.2 in d:\\anaconda\\lib\\site-packages (from beautifulsoup4->bs4->autoscraper) (2.0.1)\n"
     ]
    }
   ],
   "source": [
    "!pip install autoscraper"
   ]
  },
  {
   "cell_type": "code",
   "execution_count": 2,
   "metadata": {},
   "outputs": [],
   "source": [
    "from autoscraper import AutoScraper\n",
    "import pandas as pd"
   ]
  },
  {
   "cell_type": "code",
   "execution_count": 10,
   "metadata": {},
   "outputs": [
    {
     "name": "stdout",
     "output_type": "stream",
     "text": [
      "https://www.amazon.in/s?k=gaming+Laptop&ref=nb_sb_noss_2\n"
     ]
    }
   ],
   "source": [
    "search = \"Lenovo IdeaPad Gaming 3 Intel Core i5 10th Gen 15.6-inch FHD 120Hz IPS Gaming Laptop (8GB/512 SSD/Windows 10/NVIDIA GTX 1650 4GB GDDR6/Onyx Black/2.2Kg), 81Y4017UIN\"\n",
    "amazon_url=\"https://www.amazon.in/s?k=gaming+Laptop&ref=nb_sb_noss_2\".format(search)\n",
    "print(amazon_url)"
   ]
  },
  {
   "cell_type": "code",
   "execution_count": 23,
   "metadata": {},
   "outputs": [],
   "source": [
    "wanted_list=[\"₹62,514\",\"Save ₹22,776\"]"
   ]
  },
  {
   "cell_type": "code",
   "execution_count": 24,
   "metadata": {},
   "outputs": [],
   "source": [
    "scraper=AutoScraper()\n",
    "result=scraper.build(amazon_url,wanted_list)"
   ]
  },
  {
   "cell_type": "code",
   "execution_count": 25,
   "metadata": {},
   "outputs": [
    {
     "name": "stdout",
     "output_type": "stream",
     "text": [
      "{'rule_kc14': ['₹59,990', '₹70,172', '₹49,990', '₹69,890', '₹53,990', '₹63,155', '₹88,990', '₹1,15,990', '₹70,990', '₹79,529', '₹62,103', '₹64,330', '₹68,990', '₹81,868', '₹66,990', '₹77,549', '₹66,990', '₹79,888', '₹63,990', '₹78,514', '₹75,990', '₹82,227', '₹62,514', '₹85,290', '₹57,990', '₹71,712', '₹69,990', '₹1,04,890', '₹59,990', '₹84,990'], 'rule_18wt': ['₹59,990', '₹70,172', '₹49,990', '₹69,890', '₹53,990', '₹63,155', '₹88,990', '₹1,15,990', '₹70,990', '₹79,529', '₹62,103', '₹64,330', '₹68,990', '₹81,868', '₹66,990', '₹77,549', '₹66,990', '₹79,888', '₹63,990', '₹78,514', '₹75,990', '₹82,227', '₹62,514', '₹85,290', '₹57,990', '₹71,712', '₹69,990', '₹1,04,890', '₹59,990', '₹84,990']}\n"
     ]
    }
   ],
   "source": [
    "data = scraper.get_result_similar(amazon_url,grouped=True)\n",
    "print(data)"
   ]
  },
  {
   "cell_type": "code",
   "execution_count": 26,
   "metadata": {},
   "outputs": [
    {
     "name": "stdout",
     "output_type": "stream",
     "text": [
      "['rule_kc14', 'rule_18wt']\n"
     ]
    }
   ],
   "source": [
    "keys = list(data.keys())\n",
    "print(keys)"
   ]
  },
  {
   "cell_type": "code",
   "execution_count": 28,
   "metadata": {},
   "outputs": [],
   "source": [
    "scraper.set_rule_aliases({str(keys[0]):'current price',str(keys[1]):'saved price'})"
   ]
  },
  {
   "cell_type": "code",
   "execution_count": 29,
   "metadata": {},
   "outputs": [],
   "source": [
    "scraper.save(\"amazon_in.json\")"
   ]
  },
  {
   "cell_type": "code",
   "execution_count": 36,
   "metadata": {},
   "outputs": [
    {
     "data": {
      "text/html": [
       "<div>\n",
       "<style scoped>\n",
       "    .dataframe tbody tr th:only-of-type {\n",
       "        vertical-align: middle;\n",
       "    }\n",
       "\n",
       "    .dataframe tbody tr th {\n",
       "        vertical-align: top;\n",
       "    }\n",
       "\n",
       "    .dataframe thead th {\n",
       "        text-align: right;\n",
       "    }\n",
       "</style>\n",
       "<table border=\"1\" class=\"dataframe\">\n",
       "  <thead>\n",
       "    <tr style=\"text-align: right;\">\n",
       "      <th></th>\n",
       "      <th>stack_list</th>\n",
       "    </tr>\n",
       "  </thead>\n",
       "  <tbody>\n",
       "    <tr>\n",
       "      <th>0</th>\n",
       "      <td>{'content': [['[document]', {'style': '', 'cla...</td>\n",
       "    </tr>\n",
       "    <tr>\n",
       "      <th>1</th>\n",
       "      <td>{'content': [['[document]', {'style': '', 'cla...</td>\n",
       "    </tr>\n",
       "  </tbody>\n",
       "</table>\n",
       "</div>"
      ],
      "text/plain": [
       "                                          stack_list\n",
       "0  {'content': [['[document]', {'style': '', 'cla...\n",
       "1  {'content': [['[document]', {'style': '', 'cla..."
      ]
     },
     "execution_count": 36,
     "metadata": {},
     "output_type": "execute_result"
    }
   ],
   "source": [
    "pd.read_json ('amazon_in.json')"
   ]
  },
  {
   "cell_type": "code",
   "execution_count": null,
   "metadata": {},
   "outputs": [],
   "source": []
  }
 ],
 "metadata": {
  "kernelspec": {
   "display_name": "Python 3",
   "language": "python",
   "name": "python3"
  },
  "language_info": {
   "codemirror_mode": {
    "name": "ipython",
    "version": 3
   },
   "file_extension": ".py",
   "mimetype": "text/x-python",
   "name": "python",
   "nbconvert_exporter": "python",
   "pygments_lexer": "ipython3",
   "version": "3.8.3"
  }
 },
 "nbformat": 4,
 "nbformat_minor": 4
}
