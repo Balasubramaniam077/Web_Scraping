{
 "cells": [
  {
   "cell_type": "code",
   "execution_count": 9,
   "metadata": {},
   "outputs": [
    {
     "name": "stdout",
     "output_type": "stream",
     "text": [
      "Requirement already satisfied: AutoScraper in d:\\anaconda\\lib\\site-packages (1.1.12)\n",
      "Requirement already satisfied: bs4 in d:\\anaconda\\lib\\site-packages (from AutoScraper) (0.0.1)\n",
      "Requirement already satisfied: requests in d:\\anaconda\\lib\\site-packages (from AutoScraper) (2.24.0)\n",
      "Requirement already satisfied: lxml in d:\\anaconda\\lib\\site-packages (from AutoScraper) (4.5.2)\n",
      "Requirement already satisfied: beautifulsoup4 in d:\\anaconda\\lib\\site-packages (from bs4->AutoScraper) (4.9.1)\n",
      "Requirement already satisfied: urllib3!=1.25.0,!=1.25.1,<1.26,>=1.21.1 in d:\\anaconda\\lib\\site-packages (from requests->AutoScraper) (1.25.9)\n",
      "Requirement already satisfied: idna<3,>=2.5 in d:\\anaconda\\lib\\site-packages (from requests->AutoScraper) (2.10)\n",
      "Requirement already satisfied: chardet<4,>=3.0.2 in d:\\anaconda\\lib\\site-packages (from requests->AutoScraper) (3.0.4)\n",
      "Requirement already satisfied: certifi>=2017.4.17 in d:\\anaconda\\lib\\site-packages (from requests->AutoScraper) (2020.6.20)\n",
      "Requirement already satisfied: soupsieve>1.2 in d:\\anaconda\\lib\\site-packages (from beautifulsoup4->bs4->AutoScraper) (2.0.1)\n"
     ]
    }
   ],
   "source": [
    "!pip install AutoScraper"
   ]
  },
  {
   "cell_type": "code",
   "execution_count": 18,
   "metadata": {},
   "outputs": [
    {
     "name": "stdout",
     "output_type": "stream",
     "text": [
      "['COVID-19-PREDICTION', 'Face_Recognition', 'Pose_estimator', 'Smoke-Detection', 'Jupyter Notebook', 'Python']\n"
     ]
    }
   ],
   "source": [
    "from autoscraper import AutoScraper\n",
    "url = 'https://github.com/abishekvelavan?tab=repositories'\n",
    "wanted_list = ['COVID-19-PREDICTION','Jupyter Notebook']\n",
    "scraper = AutoScraper()\n",
    "result = scraper.build(url, wanted_list)\n",
    "print(result)"
   ]
  },
  {
   "cell_type": "code",
   "execution_count": 23,
   "metadata": {},
   "outputs": [
    {
     "data": {
      "text/plain": [
       "{'rule_5vkh': ['COVID-19-PREDICTION',\n",
       "  'Face_Recognition',\n",
       "  'Pose_estimator',\n",
       "  'Smoke-Detection'],\n",
       " 'rule_7eia': ['Jupyter Notebook',\n",
       "  'Jupyter Notebook',\n",
       "  'Jupyter Notebook',\n",
       "  'Python'],\n",
       " 'rule_2lcu': ['Jupyter Notebook',\n",
       "  'Jupyter Notebook',\n",
       "  'Jupyter Notebook',\n",
       "  'Python'],\n",
       " 'rule_uab5': ['Jupyter Notebook',\n",
       "  'Jupyter Notebook',\n",
       "  'Jupyter Notebook',\n",
       "  'Python']}"
      ]
     },
     "execution_count": 23,
     "metadata": {},
     "output_type": "execute_result"
    }
   ],
   "source": [
    "scraper.get_result_similar(\"https://github.com/Balasubramaniam077\",grouped=True)"
   ]
  },
  {
   "cell_type": "code",
   "execution_count": 25,
   "metadata": {},
   "outputs": [],
   "source": [
    "scraper.set_rule_aliases({'rule_5vkh': 'COVID-19-PREDICTION','rule_7eia':'Jupyter Notebook'})\n",
    "scraper.keep_rules(['rule_5vkh','rule_7eia'])\n",
    "scraper.save('github-repo')"
   ]
  },
  {
   "cell_type": "code",
   "execution_count": 26,
   "metadata": {},
   "outputs": [],
   "source": [
    "scraper.load('github-repo')"
   ]
  },
  {
   "cell_type": "code",
   "execution_count": 27,
   "metadata": {},
   "outputs": [],
   "source": [
    "result=scraper.get_result_similar(\"https://github.com/abishekvelavan\",group_by_alias=True)"
   ]
  },
  {
   "cell_type": "code",
   "execution_count": 31,
   "metadata": {},
   "outputs": [
    {
     "data": {
      "text/plain": [
       "{'COVID-19-PREDICTION': ['My-first-website',\n",
       "  'Php-mysql-form',\n",
       "  'toastmasters-website',\n",
       "  'applicationdevelopmentpractices',\n",
       "  'litfest21',\n",
       "  'abishekvelavan'],\n",
       " 'Jupyter Notebook': ['HTML\\n\\n\\n\\n\\n\\n                3',\n",
       "  'HTML\\n\\n\\n\\n\\n\\n                1',\n",
       "  'The landing page for the Toastmasters Club of KPRIET.',\n",
       "  'HTML',\n",
       "  'HTML']}"
      ]
     },
     "execution_count": 31,
     "metadata": {},
     "output_type": "execute_result"
    }
   ],
   "source": [
    "result"
   ]
  },
  {
   "cell_type": "code",
   "execution_count": null,
   "metadata": {},
   "outputs": [],
   "source": []
  },
  {
   "cell_type": "code",
   "execution_count": null,
   "metadata": {},
   "outputs": [],
   "source": []
  }
 ],
 "metadata": {
  "kernelspec": {
   "display_name": "Python 3",
   "language": "python",
   "name": "python3"
  },
  "language_info": {
   "codemirror_mode": {
    "name": "ipython",
    "version": 3
   },
   "file_extension": ".py",
   "mimetype": "text/x-python",
   "name": "python",
   "nbconvert_exporter": "python",
   "pygments_lexer": "ipython3",
   "version": "3.8.3"
  }
 },
 "nbformat": 4,
 "nbformat_minor": 4
}
